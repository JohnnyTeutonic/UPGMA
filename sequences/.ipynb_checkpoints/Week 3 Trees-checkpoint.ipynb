{
 "cells": [
  {
   "cell_type": "code",
   "execution_count": 239,
   "metadata": {
    "collapsed": true
   },
   "outputs": [],
   "source": [
    "from math import inf"
   ]
  },
  {
   "cell_type": "code",
   "execution_count": 240,
   "metadata": {
    "collapsed": true
   },
   "outputs": [],
   "source": [
    "purines = ['A', 'G']\n",
    "pyrimidines = ['C', 'T']\n",
    "nucleotides = purines + pyrimidines\n",
    "\n",
    "c = dict()\n",
    "for nt1 in nucleotides:\n",
    "    c[nt1] = dict()\n",
    "    for nt2 in nucleotides:\n",
    "        # no change\n",
    "        if nt1 == nt2:\n",
    "            c[nt1][nt2] = 0.0\n",
    "        # transition\n",
    "        elif (nt1 in purines and nt2 in purines) or (nt1 in pyrimidines and nt2 in pyrimidines):\n",
    "            c[nt1][nt2] = 1.0\n",
    "        # transversion\n",
    "        else:\n",
    "            c[nt1][nt2] = 2.5"
   ]
  },
  {
   "cell_type": "code",
   "execution_count": 213,
   "metadata": {},
   "outputs": [
    {
     "data": {
      "text/plain": [
       "1.0"
      ]
     },
     "execution_count": 213,
     "metadata": {},
     "output_type": "execute_result"
    }
   ],
   "source": [
    "c['G']['A']"
   ]
  },
  {
   "cell_type": "code",
   "execution_count": 241,
   "metadata": {
    "collapsed": true
   },
   "outputs": [],
   "source": [
    "def init_tree(num_tips):\n",
    "    \"\"\"\n",
    "    Create an empty tree dictionary with the correct number of nodes.\n",
    "    This function does not link the nodes together, so there is no tree structure yet.\n",
    "    \"\"\"\n",
    "    tree = dict()\n",
    "    \n",
    "    # create all the nodes\n",
    "    tree['root'] = dict()\n",
    "    for x in range(1, num_tips + 1):\n",
    "        tree['tip{}'.format(x)] = dict()\n",
    "    for x in range(1, num_tips + 1 - 2):\n",
    "        tree['int{}'.format(x)] = dict()\n",
    "    \n",
    "    # initialize node data\n",
    "    for node in tree:\n",
    "        for child in ['left', 'right']:\n",
    "            tree[node][child] = None\n",
    "        for nt in nucleotides:\n",
    "            tree[node][nt] = None\n",
    "    \n",
    "    return tree"
   ]
  },
  {
   "cell_type": "code",
   "execution_count": 242,
   "metadata": {
    "collapsed": true
   },
   "outputs": [],
   "source": [
    "def init_tip(tree, tip_name, observed_nt):\n",
    "    \"\"\"\n",
    "    Intialise a tip of a tree with the correct costs.\n",
    "    At this tip node, only the observed nucleotides are possible:\n",
    "    the cost of the observed nucleotide is zero, and\n",
    "    the cost of any other nucleotide is infinity.\n",
    "    \"\"\"\n",
    "    for nt in nucleotides:\n",
    "        if nt is observed_nt:\n",
    "            tree[tip_name][nt] = 0\n",
    "        else:\n",
    "            tree[tip_name][nt] = inf"
   ]
  },
  {
   "cell_type": "code",
   "execution_count": 243,
   "metadata": {
    "collapsed": true
   },
   "outputs": [],
   "source": [
    "tip_seq = 'CACAG'\n",
    "my_tree = init_tree(len(tip_seq))"
   ]
  },
  {
   "cell_type": "code",
   "execution_count": 191,
   "metadata": {},
   "outputs": [
    {
     "name": "stdout",
     "output_type": "stream",
     "text": [
      "left None\n",
      "right None\n",
      "A inf\n",
      "G inf\n",
      "C 0\n",
      "T inf\n"
     ]
    }
   ],
   "source": [
    "for k, v in my_tree['tip1'].items():\n",
    "    print(k, v)"
   ]
  },
  {
   "cell_type": "code",
   "execution_count": 244,
   "metadata": {
    "collapsed": true
   },
   "outputs": [],
   "source": [
    "my_tree['root']['left'] = 'int1'\n",
    "my_tree['root']['right'] = 'int3'\n",
    "my_tree['int1']['left'] = 'tip1'\n",
    "my_tree['int1']['right'] = 'tip2'\n",
    "my_tree['int3']['left'] = 'tip3'\n",
    "my_tree['int3']['right'] = 'int2'\n",
    "my_tree['int2']['left'] = 'tip4'\n",
    "my_tree['int2']['right'] = 'tip5'"
   ]
  },
  {
   "cell_type": "code",
   "execution_count": 245,
   "metadata": {},
   "outputs": [
    {
     "name": "stdout",
     "output_type": "stream",
     "text": [
      "{'left': None, 'right': None, 'A': None, 'G': None, 'C': None, 'T': None}\n"
     ]
    }
   ],
   "source": [
    "print(my_tree[my_tree['int1']['left']])"
   ]
  },
  {
   "cell_type": "code",
   "execution_count": 246,
   "metadata": {},
   "outputs": [
    {
     "name": "stdout",
     "output_type": "stream",
     "text": [
      "tip1 {'left': None, 'right': None, 'A': inf, 'G': inf, 'C': 0, 'T': inf}\n",
      "tip2 {'left': None, 'right': None, 'A': 0, 'G': inf, 'C': inf, 'T': inf}\n",
      "tip3 {'left': None, 'right': None, 'A': inf, 'G': inf, 'C': 0, 'T': inf}\n",
      "tip4 {'left': None, 'right': None, 'A': 0, 'G': inf, 'C': inf, 'T': inf}\n",
      "tip5 {'left': None, 'right': None, 'A': inf, 'G': 0, 'C': inf, 'T': inf}\n"
     ]
    }
   ],
   "source": [
    "for i, nt in enumerate(tip_seq):\n",
    "    tip_name = 'tip{}'.format(i + 1)\n",
    "    init_tip(my_tree, tip_name, nt)\n",
    "    print(tip_name, my_tree[tip_name])\n"
   ]
  },
  {
   "cell_type": "code",
   "execution_count": 225,
   "metadata": {},
   "outputs": [
    {
     "name": "stdout",
     "output_type": "stream",
     "text": [
      "[2.5, 2.5, 1.0, 0.0]   [2.5, 2.5, 1.0, 0.0]\n"
     ]
    }
   ],
   "source": [
    "for nt1 in nucleotides:\n",
    "    left_costs = list()\n",
    "    right_costs = list()\n",
    "    for nt2 in nucleotides:\n",
    "        left_costs.append(c[nt2][nt1])\n",
    "        right_costs.append(c[nt2][nt1])\n",
    "print(left_costs,\" \", right_costs)"
   ]
  },
  {
   "cell_type": "code",
   "execution_count": 247,
   "metadata": {},
   "outputs": [],
   "source": [
    "def sankoff_calculate(c_matrix, tree, node_name):\n",
    "    \"\"\"\n",
    "    For the specified node of the tree, calculate the minimum possible cost \n",
    "    for each nucleotide. \n",
    "    \"\"\"\n",
    "    for nt1 in nucleotides:\n",
    "        left_costs = list()\n",
    "        right_costs = list()\n",
    "        left_node = tree[tree[node_name]['left']]\n",
    "        right_node = tree[tree[node_name]['right']]\n",
    "           \n",
    "        for nt2 in nucleotides:\n",
    "            left_costs.append(c[nt2][nt1] + left_node[nt2])\n",
    "            right_costs.append(c[nt2][nt1] + right_node[nt2])\n",
    "                \n",
    "        tree[node_name][nt1] = min(left_costs) + min(right_costs)\n",
    "\n"
   ]
  },
  {
   "cell_type": "code",
   "execution_count": 248,
   "metadata": {},
   "outputs": [],
   "source": [
    "def sankoff_traverse(c_matrix, tree, node_name):\n",
    "    \"\"\"\n",
    "    Traverse the tree recursively, calculating costs for each node.\n",
    "    Calculate a node's children before the node itself.\n",
    "    If a child node already has its costs calculated, don't try to calculate it.\n",
    "    This function depends on correctly initialising the costs in the tips\n",
    "    of the tree before traversing the tree.\n",
    "    \"\"\"\n",
    "    print(\"Examining node {}\".format(node_name))\n",
    "    if tree[tree[node_name]['left']]['A'] is None:\n",
    "        sankoff_traverse(c_matrix, tree, tree[node_name]['left'])\n",
    "    else:\n",
    "        print(\"Node {} values already known\".format(tree[node_name]['left']))\n",
    "    \n",
    "    if tree[tree[node_name]['right']]['A'] is None:\n",
    "        sankoff_traverse(c_matrix, tree, tree[node_name]['right'])\n",
    "    else:\n",
    "        print(\"Node {} values already known\".format(tree[node_name]['right']))   \n",
    "    \n",
    "    print(\"Calculating node {}\".format(node_name))\n",
    "    sankoff_calculate(c_matrix, tree, node_name)"
   ]
  },
  {
   "cell_type": "code",
   "execution_count": 249,
   "metadata": {},
   "outputs": [
    {
     "name": "stdout",
     "output_type": "stream",
     "text": [
      "Examining node root\n",
      "Examining node int1\n",
      "Node tip1 values already known\n",
      "Node tip2 values already known\n",
      "Calculating node int1\n",
      "Examining node int3\n",
      "Node tip3 values already known\n",
      "Examining node int2\n",
      "Node tip4 values already known\n",
      "Node tip5 values already known\n",
      "Calculating node int2\n",
      "Calculating node int3\n",
      "Calculating node root\n"
     ]
    }
   ],
   "source": [
    "sankoff_traverse(c, my_tree, 'root')"
   ]
  },
  {
   "cell_type": "code",
   "execution_count": 349,
   "metadata": {},
   "outputs": [
    {
     "name": "stdout",
     "output_type": "stream",
     "text": [
      "Minimum cost is [6.0, 6.0] for A and C\n"
     ]
    }
   ],
   "source": [
    "min_cost = inf\n",
    "min_nts = list()\n",
    "min_value = min(min_cost_dict.values())\n",
    "min_nts = [my_tree['root'][nt] for nt in nucleotides]\n",
    "min_cost_dict = {i:x for i, x in (min_cost_dict.items()) if x == min_value}\n",
    "print(\"Minimum cost is {} for {}\".format(list(min_cost_dict.values()), \" and \".join(min_cost_dict.keys())))        "
   ]
  },
  {
   "cell_type": "code",
   "execution_count": null,
   "metadata": {
    "collapsed": true
   },
   "outputs": [],
   "source": []
  }
 ],
 "metadata": {
  "kernelspec": {
   "display_name": "Python 3",
   "language": "python",
   "name": "python3"
  },
  "language_info": {
   "codemirror_mode": {
    "name": "ipython",
    "version": 3
   },
   "file_extension": ".py",
   "mimetype": "text/x-python",
   "name": "python",
   "nbconvert_exporter": "python",
   "pygments_lexer": "ipython3",
   "version": "3.6.2"
  }
 },
 "nbformat": 4,
 "nbformat_minor": 2
}
