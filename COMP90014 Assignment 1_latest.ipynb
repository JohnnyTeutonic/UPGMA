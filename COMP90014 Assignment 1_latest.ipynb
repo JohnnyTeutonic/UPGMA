{
 "cells": [
  {
   "cell_type": "markdown",
   "metadata": {},
   "source": [
    "# COMP90014 Assignment 1\n",
    "### Semester 2, 2018"
   ]
  },
  {
   "cell_type": "markdown",
   "metadata": {},
   "source": [
    "This assignment should be completed by each student individually. Make sure you read this entire document, and ask for help if anything is not clear. Any changes or clarification to this document will be announced via the LMS.\n",
    "\n",
    "Please make sure you are aware of the University's rules on academic honesty and plagiarism, which are very strict: https://academichonesty.unimelb.edu.au/ \n",
    "\n",
    "Make sure you **do not** copy any code either from other students or from the internet. This is considered plagiarism. It is generally a good idea to avoid looking at any solutions as you may find it surprisingly difficult to generate your own solution to the problem once you have seen somebody else's.\n",
    "\n",
    "Your completed notebook file containing all your answers will be turned in via LMS. No other files or formats will be accepted - only upload the completed `.ipynb` file."
   ]
  },
  {
   "cell_type": "markdown",
   "metadata": {},
   "source": [
    "### Overview\n",
    "To complete the assignment you will need to finish the tasks in this notebook. There are multiple tasks that are connected in a logical order.\n",
    "\n",
    "The tasks are a combination of writing your own implementations of algorithms we've discussed in lectures, writing your own code to use library implementations of these algorithms and interpreting the results in short answer format. Each short answer question has a word limit that will be strictly enforced!\n",
    "\n",
    "In some case, we have provided test input and test output that you can use to try out your solutions. These tests are just samples and are not exhaustive - they may warn you if you've made a mistake, but they are not guaranteed to. It's up to you to decide whether your code is correct."
   ]
  },
  {
   "cell_type": "markdown",
   "metadata": {},
   "source": [
    "### Marking\n",
    "\n",
    "Cells that must be completed to receive marks are clearly labeled. There are 16 graded cells, some of which are code cells, in which you must complete the code to solve a problem, and some of which are markdown cells, in which you must write your answers to short-answer questions. In addition to the graded cells, up to 8 marks will be given for code style, readability, efficiency and comments. \n",
    "\n",
    "The total marks for the assignment add up to 45, and it will be worth 15% of your overall subject grade."
   ]
  },
  {
   "cell_type": "markdown",
   "metadata": {},
   "source": [
    "### Background and data\n",
    "During this assignment you will go through the steps to generate trees from a set of sequences. This includes calculating the distance matrices and the trees themselves using multiple algorithms. At each step of the process you will be asked to fill out short answer questions to demonstrate your understanding of the concepts.\n",
    "\n",
    "The sequences you will use are the following [C2H2 zinc finger genes](https://en.wikipedia.org/wiki/Zinc_finger#Cys2His2) listed with links to their NCBI RefSeq records:\n",
    "- [*KLF1*](https://www.ncbi.nlm.nih.gov/nuccore/NM_006563)\n",
    "- [*KLF3*](https://www.ncbi.nlm.nih.gov/nuccore/NM_016531)\n",
    "- [*KLF7*](https://www.ncbi.nlm.nih.gov/nuccore/NM_003709)\n",
    "- [*YY1*](https://www.ncbi.nlm.nih.gov/nuccore/NM_003403)\n",
    "- [*SP1*](https://www.ncbi.nlm.nih.gov/nuccore/NM_001251825)\n",
    "- [*SP4*](https://www.ncbi.nlm.nih.gov/nuccore/NM_003112)\n",
    "- [*SP8*](https://www.ncbi.nlm.nih.gov/nuccore/NM_182700)\n"
   ]
  },
  {
   "cell_type": "markdown",
   "metadata": {},
   "source": [
    "### Task 1 - Setup\n",
    "\n",
    "Create a new directory named `sequences` in the same place as your notebook and save a FASTA file for each of the sequences above in that directory. The sequence files must be named `<accession>.fa` where `<accession>` is the RefSeq accession number (e.g. `NM_006563.fa` for the *KLF1* sequence).\n",
    "\n",
    "Once you've done that, you can run the code below to read in the sequences you just downloaded into a handy data structure. \n",
    "\n",
    "First, we create a dictionary `accessions` with gene names as keys and RefSeq accessions as values and populate it with the seven genes above.\n",
    "\n",
    "Next we create a second dictionary `sequences` with gene names as keys and DNA sequence objects from the FASTA files as values. We read the FASTA files using the `scikit-bio` library method `skbio.sequence.DNA.read()`."
   ]
  },
  {
   "cell_type": "code",
   "execution_count": 96,
   "metadata": {},
   "outputs": [],
   "source": [
    "import os.path\n",
    "import random\n",
    "import skbio\n",
    "from math import inf\n",
    "from io import StringIO\n",
    "from collections import OrderedDict, defaultdict\n",
    "import numpy as np\n",
    "from itertools import combinations\n",
    "import math\n",
    "import functools\n",
    "import pandas"
   ]
  },
  {
   "cell_type": "code",
   "execution_count": 105,
   "metadata": {},
   "outputs": [
    {
     "name": "stdout",
     "output_type": "stream",
     "text": [
      "/home/jreich\n"
     ]
    }
   ],
   "source": [
    "cd ~"
   ]
  },
  {
   "cell_type": "code",
   "execution_count": 106,
   "metadata": {},
   "outputs": [],
   "source": [
    "accessions = dict()\n",
    "sequences = dict()\n",
    "\n",
    "accessions['KLF1'] = \"NM_006563\"\n",
    "accessions['KLF3'] = \"NM_016531\"\n",
    "accessions['KLF7'] = \"NM_003709\"\n",
    "accessions['YY1'] = \"NM_003403\"\n",
    "accessions['SP1'] = \"NM_001251825\"\n",
    "accessions['SP4'] = \"NM_003112\"\n",
    "accessions['SP8'] = \"NM_182700\"\n",
    "\n",
    "for key in accessions.keys():\n",
    "    with open(os.path.join(\"sequences\", \"{}.fa\".format(accessions[key]))) as fasta:\n",
    "        sequences[key] = skbio.sequence.DNA.read(fasta)      "
   ]
  },
  {
   "cell_type": "markdown",
   "metadata": {},
   "source": [
    "Run the cell below to see an overview of the information we've just read in. Make sure you understand what is being printed, and ask for help if you don't."
   ]
  },
  {
   "cell_type": "code",
   "execution_count": 107,
   "metadata": {},
   "outputs": [
    {
     "name": "stdout",
     "output_type": "stream",
     "text": [
      "KLF1\tNM_006563\t1645\tTCAGAGTTCA\n",
      "KLF3\tNM_016531\t5632\tTACTTACCCC\n",
      "KLF7\tNM_003709\t8433\tAGAGAAGCGA\n",
      "YY1\tNM_003403\t3159\tAGGGCGAACG\n",
      "SP1\tNM_001251825\t7523\tGTCCGGGTTC\n",
      "SP4\tNM_003112\t6130\tATCAAGGGCG\n",
      "SP8\tNM_182700\t3643\tATCATTGTAT\n"
     ]
    }
   ],
   "source": [
    "for key in accessions.keys():\n",
    "    print(key, accessions[key], len(sequences[key]), str(sequences[key])[:10], sep='\\t')"
   ]
  },
  {
   "cell_type": "markdown",
   "metadata": {},
   "source": [
    "## Part 1 - Distance calculations\n",
    "Distances between sequences can be calculated in a number of different ways. In this part, you will calculate distance matrices for a set of sequences in two different ways. "
   ]
  },
  {
   "cell_type": "markdown",
   "metadata": {},
   "source": [
    "### Task 2 - Creating a distance matrix\n",
    "Write a function `init_distance_matrix` that creates a distance matrix as a dictionary of dictionaries (similar to the substitution matrix in the Week 03 - Trees lab). The dictionary keys should be gene names and the values should be `None` after initialization."
   ]
  },
  {
   "cell_type": "code",
   "execution_count": 108,
   "metadata": {},
   "outputs": [],
   "source": [
    "# ~~ GRADED CELL (2 marks) - complete this cell ~~\n",
    "def init_distance_matrix(genes):\n",
    "    \"\"\"\n",
    "    Take in a list of gene names and return a dict.\n",
    "    The dict should be a nested 'dictionary of dictionaries', where the keys of the\n",
    "    both the outer dict and the nested dicts are gene names.\n",
    "    It should be possible to look up a value in the returned dict with a \n",
    "    call like dist[gene1][gene2].\n",
    "    \"\"\"\n",
    "    # create a dictionary and sort the keys alphanumerically\n",
    "    sorted_keys = sorted(genes)\n",
    "    dist = {}\n",
    "    # initialise the outer dictionary\n",
    "    for gene in sorted_keys:\n",
    "        dist[gene] = OrderedDict()   \n",
    "    # initialise the inner/nested dictionary and set the values to None\n",
    "    for gene in sorted_keys:\n",
    "        for keys in (dist.keys()):\n",
    "            dist[gene][keys] = None\n",
    "    return dist"
   ]
  },
  {
   "cell_type": "markdown",
   "metadata": {},
   "source": [
    "If you have implemented the code correctly, the following tests should give the right results:"
   ]
  },
  {
   "cell_type": "code",
   "execution_count": 109,
   "metadata": {},
   "outputs": [
    {
     "name": "stdout",
     "output_type": "stream",
     "text": [
      "dict_keys(['KLF1', 'KLF3', 'KLF7', 'SP1', 'SP4', 'SP8', 'YY1'])\n"
     ]
    }
   ],
   "source": [
    "# Should give: dict_keys(['KLF1', 'KLF3', 'KLF7', 'YY1', 'SP1', 'SP4', 'SP8'])\n",
    "dist = init_distance_matrix(accessions.keys())\n",
    "print(dist.keys())"
   ]
  },
  {
   "cell_type": "code",
   "execution_count": 110,
   "metadata": {},
   "outputs": [
    {
     "name": "stdout",
     "output_type": "stream",
     "text": [
      "dict_values([OrderedDict([('KLF1', None), ('KLF3', None), ('KLF7', None), ('SP1', None), ('SP4', None), ('SP8', None), ('YY1', None)]), OrderedDict([('KLF1', None), ('KLF3', None), ('KLF7', None), ('SP1', None), ('SP4', None), ('SP8', None), ('YY1', None)]), OrderedDict([('KLF1', None), ('KLF3', None), ('KLF7', None), ('SP1', None), ('SP4', None), ('SP8', None), ('YY1', None)]), OrderedDict([('KLF1', None), ('KLF3', None), ('KLF7', None), ('SP1', None), ('SP4', None), ('SP8', None), ('YY1', None)]), OrderedDict([('KLF1', None), ('KLF3', None), ('KLF7', None), ('SP1', None), ('SP4', None), ('SP8', None), ('YY1', None)]), OrderedDict([('KLF1', None), ('KLF3', None), ('KLF7', None), ('SP1', None), ('SP4', None), ('SP8', None), ('YY1', None)]), OrderedDict([('KLF1', None), ('KLF3', None), ('KLF7', None), ('SP1', None), ('SP4', None), ('SP8', None), ('YY1', None)])])\n"
     ]
    }
   ],
   "source": [
    "# Should give: None\n",
    "dist = init_distance_matrix(accessions.keys())\n",
    "print(dist.values())"
   ]
  },
  {
   "cell_type": "code",
   "execution_count": 111,
   "metadata": {},
   "outputs": [
    {
     "ename": "TypeError",
     "evalue": "'NoneType' object is not subscriptable",
     "output_type": "error",
     "traceback": [
      "\u001b[0;31m---------------------------------------------------------------------------\u001b[0m",
      "\u001b[0;31mTypeError\u001b[0m                                 Traceback (most recent call last)",
      "\u001b[0;32m<ipython-input-111-266f50077d0b>\u001b[0m in \u001b[0;36m<module>\u001b[0;34m()\u001b[0m\n\u001b[1;32m      1\u001b[0m \u001b[0;31m# Should give an error!\u001b[0m\u001b[0;34m\u001b[0m\u001b[0;34m\u001b[0m\u001b[0m\n\u001b[1;32m      2\u001b[0m \u001b[0mdist\u001b[0m \u001b[0;34m=\u001b[0m \u001b[0minit_distance_matrix\u001b[0m\u001b[0;34m(\u001b[0m\u001b[0maccessions\u001b[0m\u001b[0;34m.\u001b[0m\u001b[0mkeys\u001b[0m\u001b[0;34m(\u001b[0m\u001b[0;34m)\u001b[0m\u001b[0;34m)\u001b[0m\u001b[0;34m\u001b[0m\u001b[0m\n\u001b[0;32m----> 3\u001b[0;31m \u001b[0mprint\u001b[0m\u001b[0;34m(\u001b[0m\u001b[0mdist\u001b[0m\u001b[0;34m[\u001b[0m\u001b[0;34m'YY1'\u001b[0m\u001b[0;34m]\u001b[0m\u001b[0;34m[\u001b[0m\u001b[0;34m'SP4'\u001b[0m\u001b[0;34m]\u001b[0m\u001b[0;34m[\u001b[0m\u001b[0;34m'KLF1'\u001b[0m\u001b[0;34m]\u001b[0m\u001b[0;34m)\u001b[0m\u001b[0;34m\u001b[0m\u001b[0m\n\u001b[0m",
      "\u001b[0;31mTypeError\u001b[0m: 'NoneType' object is not subscriptable"
     ]
    }
   ],
   "source": [
    "# Should give an error!\n",
    "dist = init_distance_matrix(accessions.keys())\n",
    "print(dist['YY1']['SP4']['KLF1'])"
   ]
  },
  {
   "cell_type": "markdown",
   "metadata": {},
   "source": [
    "The following function will pretty-print a distance matrix that has been specified correctly."
   ]
  },
  {
   "cell_type": "code",
   "execution_count": 112,
   "metadata": {},
   "outputs": [],
   "source": [
    "def print_distance_matrix(dist):\n",
    "    \"\"\"\n",
    "    Pretty-print a distance matrix.\n",
    "    \"\"\"\n",
    "    genes = sorted(dist.keys())\n",
    "\n",
    "    for s in [''] + genes:\n",
    "        print(\"{: >10}\".format(s), end='')\n",
    "    print()\n",
    "\n",
    "    for key1 in genes:\n",
    "        print(\"{:10}\".format(key1), end='')\n",
    "        for key2 in genes:\n",
    "            value = dist[key1][key2]\n",
    "            if value is None:\n",
    "                print(\"      None\", end='')\n",
    "            else:\n",
    "                print(\"{: >#10.5f}\".format(dist[key1][key2]), end='')\n",
    "        print()"
   ]
  },
  {
   "cell_type": "markdown",
   "metadata": {},
   "source": [
    "### Task 3 - Pairwise alignment scores as distances\n",
    "The `skbio.alignment.local_pairwise_align_ssw()` library function calculates Striped Smith-Waterman alignments (banded alignment from the Week 2 lecture) using a highly optimized implementation. It returns a tuple containing:\n",
    "- `TabularMSA` object describing the alignment\n",
    "- alignment score\n",
    "- tuple of aligned position ranges\n",
    "\n",
    "Here is some example output from calling `skbio.alignment.local_pairwise_align_ssw()`. Notice that changing the order of the sequences doesn't change the alignment."
   ]
  },
  {
   "cell_type": "code",
   "execution_count": 113,
   "metadata": {},
   "outputs": [
    {
     "data": {
      "text/plain": [
       "(TabularMSA[DNA]\n",
       " --------------------------------------\n",
       " Stats:\n",
       "     sequence count: 2\n",
       "     position count: 38\n",
       " --------------------------------------\n",
       " CCCGCGCCCGGTC-CCGCC-ACGTCCCCCT-CCTTCCT\n",
       " CCCCCGCCCGCTCGCCGCCTTCCTCCCTCTGCCTTCCT, 30, [(735, 769), (357, 394)])"
      ]
     },
     "execution_count": 113,
     "metadata": {},
     "output_type": "execute_result"
    }
   ],
   "source": [
    "skbio.alignment.local_pairwise_align_ssw(sequences['KLF1'], sequences['YY1'])"
   ]
  },
  {
   "cell_type": "code",
   "execution_count": 114,
   "metadata": {},
   "outputs": [
    {
     "data": {
      "text/plain": [
       "(TabularMSA[DNA]\n",
       " --------------------------------------\n",
       " Stats:\n",
       "     sequence count: 2\n",
       "     position count: 38\n",
       " --------------------------------------\n",
       " CCCCCGCCCGCTCGCCGCCTTCCTCCCTCTGCCTTCCT\n",
       " CCCGCGCCCGGTC-CCGCC-ACGTCCCCCT-CCTTCCT, 30, [(357, 394), (735, 769)])"
      ]
     },
     "execution_count": 114,
     "metadata": {},
     "output_type": "execute_result"
    }
   ],
   "source": [
    "skbio.alignment.local_pairwise_align_ssw(sequences['YY1'], sequences['KLF1'])"
   ]
  },
  {
   "cell_type": "code",
   "execution_count": 115,
   "metadata": {},
   "outputs": [
    {
     "data": {
      "text/plain": [
       "30"
      ]
     },
     "execution_count": 115,
     "metadata": {},
     "output_type": "execute_result"
    }
   ],
   "source": [
    "# Get just the score, by indexing into the tuple\n",
    "result_tuple = skbio.alignment.local_pairwise_align_ssw(sequences['KLF1'], sequences['YY1'])\n",
    "result_tuple[1]"
   ]
  },
  {
   "cell_type": "code",
   "execution_count": 116,
   "metadata": {},
   "outputs": [
    {
     "data": {
      "text/plain": [
       "[(735, 769), (357, 394)]"
      ]
     },
     "execution_count": 116,
     "metadata": {},
     "output_type": "execute_result"
    }
   ],
   "source": [
    "# Get just the tuples showing aligned ranges\n",
    "skbio.alignment.local_pairwise_align_ssw(sequences['KLF1'], sequences['YY1'])[2]"
   ]
  },
  {
   "cell_type": "markdown",
   "metadata": {},
   "source": [
    "Complete the function `create_pairwise_dist_matrix` below. This function should create a  distance matrix using your function `init_distance_matrix`, then use `skbio.alignment.local_pairwise_align_ssw()` to populate it with alignment scores. `skbio.alignment.local_pairwise_align_ssw()` returns a tuple, and the second item in the tuple is the alignment score. Use `1 / score` as the value in the distance matrix.\n",
    "\n",
    "Recall that this matrix will be symmetrical so your solution should only calculate each alignment once."
   ]
  },
  {
   "cell_type": "code",
   "execution_count": 190,
   "metadata": {},
   "outputs": [],
   "source": [
    "# ~~ GRADED CELL (2 marks) - complete this cell ~~\n",
    "\n",
    "def create_pairwise_dist_matrix(seqs):\n",
    "    \"\"\"\n",
    "    Take in a dict with sequence names as keys and sequences as values.\n",
    "    Return a dict representing the pairwise distances between all pairs of sequences.\n",
    "    \"\"\"  \n",
    "    \n",
    "    # create a list of the *unique* combinations of keys available - this will avoid redundant computations\n",
    "    combo_list = list(combinations(seqs.keys(), 2))\n",
    "    dist = init_distance_matrix(seqs)\n",
    "    for key1, key2 in combo_list:\n",
    "                \n",
    "        result_tuple = skbio.alignment.local_pairwise_align_ssw(seqs[key1], seqs[key2])\n",
    "         \n",
    "        # set symmetrical cells to one another    \n",
    "        dist[key1][key2] = dist[key2][key1] = 1/result_tuple[1]\n",
    "        \n",
    "        # set cells with identical keys to zero\n",
    "        dist[key1][key1] = dist[key2][key2] = 0.0\n",
    "            \n",
    "\n",
    "    return dist"
   ]
  },
  {
   "cell_type": "code",
   "execution_count": 347,
   "metadata": {},
   "outputs": [
    {
     "name": "stdout",
     "output_type": "stream",
     "text": [
      "                KLF1      KLF3      KLF7       SP1       SP4       SP8       YY1\n",
      "KLF1         0.00000   0.01220   0.00833   0.02174   0.02500   0.00962   0.03333\n",
      "KLF3         0.01220   0.00000   0.00855   0.02632   0.02439   0.02941   0.01786\n",
      "KLF7         0.00833   0.00855   0.00000   0.02222   0.02632   0.02857   0.02857\n",
      "SP1          0.02174   0.02632   0.02222   0.00000   0.00446   0.00606   0.02564\n",
      "SP4          0.02500   0.02439   0.02632   0.00446   0.00000   0.01562   0.02778\n",
      "SP8          0.00962   0.02941   0.02857   0.00606   0.01562   0.00000   0.01852\n",
      "YY1          0.03333   0.01786   0.02857   0.02564   0.02778   0.01852   0.00000\n"
     ]
    }
   ],
   "source": [
    "dist_pairwise = create_pairwise_dist_matrix(sequences)\n",
    "print_distance_matrix(dist_pairwise)"
   ]
  },
  {
   "cell_type": "markdown",
   "metadata": {},
   "source": [
    "When you have implemented `create_pairwise_dist_matrix` correctly, the following should creat and print the filled-out distance matrix:"
   ]
  },
  {
   "cell_type": "markdown",
   "metadata": {},
   "source": [
    "Test that your function produces the correct results on the toy sequences below. The below code should print\n",
    "\n",
    "                    GeneA     GeneB     GeneC\n",
    "    GeneA        0.00000   0.10000   0.25000\n",
    "    GeneB        0.10000   0.00000   0.25000\n",
    "    GeneC        0.25000   0.25000   0.00000\n"
   ]
  },
  {
   "cell_type": "code",
   "execution_count": 119,
   "metadata": {},
   "outputs": [
    {
     "name": "stdout",
     "output_type": "stream",
     "text": [
      "               GeneA     GeneB     GeneC\n",
      "GeneA        0.00000   0.10000   0.25000\n",
      "GeneB        0.10000   0.00000   0.25000\n",
      "GeneC        0.25000   0.25000   0.00000\n"
     ]
    }
   ],
   "source": [
    "test_sequences = {'GeneA': skbio.DNA('GATTACA'), 'GeneB': skbio.DNA('GTTACAT'), 'GeneC':skbio.DNA('AGCTATG')}\n",
    "test_dist = create_pairwise_dist_matrix(test_sequences)\n",
    "print_distance_matrix(test_dist)"
   ]
  },
  {
   "cell_type": "markdown",
   "metadata": {},
   "source": [
    "#### Task 3 - Question 1\n",
    "Why do we use `1 / score` instead of `score` for the distance? (max 50 words).\n",
    "\n",
    "Write your answer in the markdown cell below.\n"
   ]
  },
  {
   "cell_type": "markdown",
   "metadata": {},
   "source": [
    "~~ GRADED CELL (3 marks) - complete this cell ~~\n",
    "\n",
    "We need to use `1/score` instead of `score` for each distance in order to normalise and give an appropriate scale to the score, to reflect the ratios between the pairwise alignments, in an appropriate order of magnitude scaled below 1.0 for each score in each cell."
   ]
  },
  {
   "cell_type": "markdown",
   "metadata": {},
   "source": [
    "### Task 4 - Multiple alignment distances\n",
    "1The following code will load the precomputed protein multiple sequence alignment of our genes (generated using Clustal $\\Omega$) and read it into a `TabularNSA` object. Download the `znfs.clustal_num` file from the LMS and put it in the same directory as the notebook."
   ]
  },
  {
   "cell_type": "code",
   "execution_count": 121,
   "metadata": {},
   "outputs": [
    {
     "data": {
      "text/plain": [
       "TabularMSA[Protein]\n",
       "-----------------------------------------------------------------------\n",
       "Stats:\n",
       "    sequence count: 7\n",
       "    position count: 998\n",
       "-----------------------------------------------------------------------\n",
       "--------------------------------- ... ---------------------------------\n",
       "--------------------------------- ... ---------------------------------\n",
       "...\n",
       "MSDQDHSMDEMTAVVKI---------------- ... AICPEGIARLANSGINVMQVADLQSINISGNGF\n",
       "MSDQKKEEEEEAAAAAAMATEGGKTSEPENNNK ... AISQDSNPATPNVSTNMEE-------------F"
      ]
     },
     "execution_count": 121,
     "metadata": {},
     "output_type": "execute_result"
    }
   ],
   "source": [
    "with open(\"znfs.clustal_num\") as znfs:\n",
    "    znf_msa = skbio.TabularMSA.read(znfs, constructor=skbio.Protein)\n",
    "znf_msa"
   ]
  },
  {
   "cell_type": "markdown",
   "metadata": {},
   "source": [
    "Now, you will write some code to calculate pairwise identity from the multiple alignment. The `TabularMSA` is indexed by gene name. We can extract a subset with a pair of genes by indexing with a list of two gene names, using the following syntax, which will be familiar to students that have used `pandas` for data science in Python:"
   ]
  },
  {
   "cell_type": "code",
   "execution_count": 122,
   "metadata": {},
   "outputs": [
    {
     "data": {
      "text/plain": [
       "TabularMSA[Protein]\n",
       "-----------------------------------------------------------------------\n",
       "Stats:\n",
       "    sequence count: 2\n",
       "    position count: 998\n",
       "-----------------------------------------------------------------------\n",
       "--------------------------------- ... ---------------------------------\n",
       "--------------------------------- ... ---------------------------------"
      ]
     },
     "execution_count": 122,
     "metadata": {},
     "output_type": "execute_result"
    }
   ],
   "source": [
    "znf_msa.loc[['KLF1', 'YY1']]"
   ]
  },
  {
   "cell_type": "markdown",
   "metadata": {},
   "source": [
    "The following example code iterates over all positions using the `.iter_positons()` method. This returns a `Sequence` object for each column. It skips positions where either sequence contains a gap and counts matches and mismatches. The number of matches and mismatches can be used to calculate the percent identity between two aligned sequences."
   ]
  },
  {
   "cell_type": "markdown",
   "metadata": {},
   "source": [
    "Complete the function `create_msa_dist_matrix` below. This function should start by creating a new distance matrix using your `init_distance_matrix` function from Task 1, then fill each cell of the distance matrix with the fraction of non-gap-containing columns with mismatches (or one minus the percent identity) for each pair of sequences in the multiple alignment. As a guide, try generalising the code above."
   ]
  },
  {
   "cell_type": "code",
   "execution_count": 123,
   "metadata": {},
   "outputs": [],
   "source": [
    "# ~~ GRADED CELL (2 marks) - complete this cell ~~\n",
    "def create_msa_dist_matrix(seqs, msa):\n",
    "    \"\"\"\n",
    "    Take in a dict sequences where keys are sequence names and values are sequences, \n",
    "    and a multiple sequence alignment object znf_msa.\n",
    "    Return a dict representing a distance matrix, where the values in the distance\n",
    "    matrix represent the percent identity between the sequences - i.e. the fraction\n",
    "    of mismatches out of all matches and mismatches.\"\"\"\n",
    "    \n",
    "    # initialise the matrix using the distance matrix function created earlier\n",
    "    matrix = init_distance_matrix(seqs)\n",
    "    # Find all legitimate combinatinos of keys; this removes redundant key searches\n",
    "    key_combos = list(combinations(seqs.keys(), 2))\n",
    "    for key1, key2 in key_combos:\n",
    "        match = 0\n",
    "        mismatch = 0\n",
    "        for p1, p2 in msa.loc[[key1, key2]].iter_positions():\n",
    "            if str(p1) == '-' or str(p2) == '-':\n",
    "                continue\n",
    "            elif str(p1) == str(p2):\n",
    "                match += 1\n",
    "            else:\n",
    "                mismatch += 1\n",
    "        # as this is a symmetric matrix, we can set M[i][j] to M[j][i], thus removing redundant calculations\n",
    "        matrix[key1][key2] = matrix[key2][key1] = (mismatch/(match+mismatch))\n",
    "        # if the keys are the same, then no need to perform a calculation of matches and mismatches; just set the output to zero\n",
    "        matrix[key1][key1] = matrix[key2][key2] = 0.0\n",
    "\n",
    "    return matrix\n"
   ]
  },
  {
   "cell_type": "code",
   "execution_count": 261,
   "metadata": {},
   "outputs": [
    {
     "name": "stdout",
     "output_type": "stream",
     "text": [
      "                KLF1      KLF3      KLF7       SP1       SP4       SP8       YY1\n",
      "KLF1         0.00000   0.64706   0.64552   0.66667   0.69112   0.64655   0.73600\n",
      "KLF3         0.64706   0.00000   0.61131   0.72245   0.74903   0.68372   0.73745\n",
      "KLF7         0.64552   0.61131   0.00000   0.66667   0.68398   0.64362   0.78475\n",
      "SP1          0.66667   0.72245   0.66667   0.00000   0.57642   0.65753   0.78146\n",
      "SP4          0.69112   0.74903   0.68398   0.57642   0.00000   0.64853   0.76453\n",
      "SP8          0.64655   0.68372   0.64362   0.65753   0.64853   0.00000   0.76471\n",
      "YY1          0.73600   0.73745   0.78475   0.78146   0.76453   0.76471   0.00000\n"
     ]
    }
   ],
   "source": [
    "dist_msa = create_msa_dist_matrix(sequences, znf_msa)\n",
    "print_distance_matrix(dist_msa)"
   ]
  },
  {
   "cell_type": "markdown",
   "metadata": {},
   "source": [
    "When you have implemented `create_msa_dist_matrix` correctly, the following will create and print the filled-out percent-identity matrix:"
   ]
  },
  {
   "cell_type": "markdown",
   "metadata": {},
   "source": [
    "Test that your function produces the correct results on the toy sequences below. The below code should print\n",
    "\n",
    "                   GeneA     GeneB     GeneC\n",
    "    GeneA        0.00000   0.16667   0.71429\n",
    "    GeneB        0.16667   0.00000   0.50000\n",
    "    GeneC        0.71429   0.50000   0.00000"
   ]
  },
  {
   "cell_type": "code",
   "execution_count": 125,
   "metadata": {},
   "outputs": [
    {
     "name": "stdout",
     "output_type": "stream",
     "text": [
      "               GeneA     GeneB     GeneC\n",
      "GeneA        0.00000   0.16667   0.71429\n",
      "GeneB        0.16667   0.00000   0.50000\n",
      "GeneC        0.71429   0.50000   0.00000\n"
     ]
    }
   ],
   "source": [
    "test_sequences = {'GeneA': skbio.DNA('GATTACA'), 'GeneB': skbio.DNA('GTTACAT'), 'GeneC':skbio.DNA('AGCTATG')}\n",
    "test_multiple_alignment_output = \"\"\"CLUSTAL O(1.2.4) multiple sequence alignment\n",
    "\n",
    "\n",
    "GeneA      GATTACA-\t7\n",
    "GeneB      -GTTACAT\t7\n",
    "GeneC      AGCTATG-\t7\"\"\"\n",
    "test_msa = skbio.TabularMSA.read(StringIO(test_multiple_alignment_output), constructor=skbio.DNA)\n",
    "test_msa_dist = create_msa_dist_matrix(test_sequences, test_msa)\n",
    "print_distance_matrix(test_msa_dist)"
   ]
  },
  {
   "cell_type": "markdown",
   "metadata": {},
   "source": [
    "#### Task 4 - Question 1\n",
    "Do you expect the distance matrices for MSA and SSW to be similar? Why or why not? (max 50 words)\n",
    "\n",
    "Write your answer in the markdown cell below."
   ]
  },
  {
   "cell_type": "markdown",
   "metadata": {},
   "source": [
    "~~ GRADED CELL (3 marks) - complete this cell ~~\n",
    "\n",
    "SSW is a local alignment algorithm that gives the best possible local alignment. \n",
    "The distances obtained in our msa algorithm are *not* necessarily optimal, as it is derived from a global MSA algorithm that isn't guaranteed to find the best pairwise alignment, so we could find differences if we transformed the SSW alignment score into a mismatch/match ratio. \n",
    "An example of the differences derived can be found in any column in comparing *dist_msa* with *dist_pairwise*. \n",
    "\n"
   ]
  },
  {
   "cell_type": "markdown",
   "metadata": {},
   "source": [
    "### Task 5 - k-mer distances\n",
    "The k-mer distance between two sequences is the fraction of k-mers that are unique to either sequence. Write a function that calculates a dictionary of k-mers for `k=6` and their counts for each gene sequence. We will not use the counts to calculate the distance but they are useful for other applications.\n",
    "\n",
    "Be sure to test your function with a short example sequence you can work by hand."
   ]
  },
  {
   "cell_type": "code",
   "execution_count": 126,
   "metadata": {},
   "outputs": [],
   "source": [
    "# ~~ GRADED CELL (2 marks) - complete this cell ~~\n",
    "@functools.lru_cache(maxsize=None)\n",
    "def count_kmers(seq, k=6):\n",
    "    \"\"\"\n",
    "    Take in a dict of sequences, with sequence names as keys and sequences as values, \n",
    "    and a value k.\n",
    "    Return all kmers of length k in the form of a dict\n",
    "    with k-mer strings as keys and counts as values.\n",
    "    \"\"\"\n",
    "    # function to generate all k-mers for a given value of 'k'   \n",
    "    # initialise the count dictionary\n",
    "    counts = {}\n",
    "    for i in range(0, len(seq) - k + 1):\n",
    "        kmer = seq[i:i + k]\n",
    "        # if kmer is already in the count dictionary, then increment its count\n",
    "        if kmer in counts:\n",
    "            counts[kmer] += 1\n",
    "        # otherwise, initialise the count to one\n",
    "        else:\n",
    "            counts[kmer] = 1\n",
    "    return counts\n",
    "      "
   ]
  },
  {
   "cell_type": "markdown",
   "metadata": {},
   "source": [
    "When you have implemented `count_kmers` correctly, the following tests should give the right results:"
   ]
  },
  {
   "cell_type": "code",
   "execution_count": 127,
   "metadata": {},
   "outputs": [
    {
     "data": {
      "text/plain": [
       "{'GTA': 2, 'TAA': 1, 'AAG': 1, 'AGT': 1}"
      ]
     },
     "execution_count": 127,
     "metadata": {},
     "output_type": "execute_result"
    }
   ],
   "source": [
    "# Should give: {'GTA': 2, 'TAA': 1, 'AAG': 1, 'AGT': 1}\n",
    "count_kmers('GTAAGTA', 3)"
   ]
  },
  {
   "cell_type": "code",
   "execution_count": 128,
   "metadata": {},
   "outputs": [
    {
     "data": {
      "text/plain": [
       "{'GTA': 2, 'TAG': 1, 'AGT': 1, 'TAA': 1}"
      ]
     },
     "execution_count": 128,
     "metadata": {},
     "output_type": "execute_result"
    }
   ],
   "source": [
    "# Should give: {'GTA': 2, 'TAG': 1, 'AGT': 1, 'TAA': 1}\n",
    "count_kmers('GTAGTAA', 3)"
   ]
  },
  {
   "cell_type": "code",
   "execution_count": 129,
   "metadata": {},
   "outputs": [
    {
     "data": {
      "text/plain": [
       "{'GT': 2, 'TA': 2, 'AG': 1, 'AA': 1}"
      ]
     },
     "execution_count": 129,
     "metadata": {},
     "output_type": "execute_result"
    }
   ],
   "source": [
    "# Should give: {'GT': 2, 'TA': 2, 'AG': 1, 'AA': 1}\n",
    "count_kmers('GTAGTAA', 2)"
   ]
  },
  {
   "cell_type": "markdown",
   "metadata": {},
   "source": [
    "Write a function `count_kmers_for_sequences` that uses your previous function to count k-mers for all sequences in a dictionary like `sequences`. It should return a new dictionary with gene names as keys and k-mer dictionaries as values."
   ]
  },
  {
   "cell_type": "code",
   "execution_count": 130,
   "metadata": {},
   "outputs": [],
   "source": [
    "# ~~ GRADED CELL (2 marks) - complete this cell ~~\n",
    "def count_kmers_for_sequences(seqs, k):\n",
    "    \"\"\"\n",
    "    Given a dict of sequences, build a dict of the kmer counts for each\n",
    "    sequence. Keys should be sequence names, and values should be kmer count\n",
    "    dicts (where keys are kmers and values are counts).\n",
    "    \"\"\"\n",
    "    \n",
    "    # create a blank kmer_dict\n",
    "    kmer_dict = {}\n",
    "    \n",
    "    # loop through the different sequences\n",
    "    for key, seq in seqs.items():\n",
    "        mers = count_kmers(str(seq),k)\n",
    "        # if key isn't there, put it in the dic, otherwise skip it\n",
    "        if key not in kmer_dict:\n",
    "            kmer_dict[key] = mers \n",
    "    \n",
    "    return kmer_dict"
   ]
  },
  {
   "cell_type": "markdown",
   "metadata": {},
   "source": [
    "The below code creates the kmer_counts dict, storing all kmer counts for each sequence. \n",
    "\n",
    "It then prints the name of each gene, the number of unique k-mers in each gene and the gene length, one gene per line separated by a tab. If your implementation of `count_kmers_for_sequences` is correct, it should produce the output\n",
    "\n",
    "    KLF1\t1111\t1645\n",
    "    KLF3\t2644\t5632\n",
    "    KLF7\t3057\t8433\n",
    "    YY1\t1879\t3159\n",
    "    SP1\t2751\t7523\n",
    "    SP4\t2550\t6130\n",
    "    SP8\t2018\t3643"
   ]
  },
  {
   "cell_type": "code",
   "execution_count": 131,
   "metadata": {},
   "outputs": [
    {
     "name": "stdout",
     "output_type": "stream",
     "text": [
      "KLF1\t1111\t1645\n",
      "KLF3\t2644\t5632\n",
      "KLF7\t3057\t8433\n",
      "YY1\t1879\t3159\n",
      "SP1\t2751\t7523\n",
      "SP4\t2550\t6130\n",
      "SP8\t2018\t3643\n"
     ]
    }
   ],
   "source": [
    "kmer_counts = count_kmers_for_sequences(sequences, k=6)\n",
    "\n",
    "for key in kmer_counts.keys():\n",
    "    print(key, len(kmer_counts[key]), len(sequences[key]), sep='\\t')"
   ]
  },
  {
   "cell_type": "markdown",
   "metadata": {},
   "source": [
    "#### Task 5 - Question 1\n",
    "How well correlated are the unique k-mer counts and the gene lengths? What does this suggest about the sequences? (max 50 words)\n",
    "\n",
    "Write your answer in the markdown cell below."
   ]
  },
  {
   "cell_type": "markdown",
   "metadata": {},
   "source": [
    "~~ GRADED CELL (3 marks) - complete this cell ~~\n",
    "\n",
    "Using the linear model function in *R* to determine if there was a linear relationship between the unique k-mer count and the gene length:\n",
    "\n",
    "```R\n",
    "X = c(1645, 5632, 8433, 3159, 7523, 6130, 3643)\n",
    "Y = c(1111, 2644, 3057, 1879, 2751, 2550, 2018)\n",
    "lm_model = lm(Y~X)\n",
    "lm_model$coefficients\n",
    "(Intercept)           X \n",
    " 942.853516    0.260197 \n",
    " plot(lm_model)\n",
    " ```\n",
    " \n",
    "Then, shown below is a QQ Plot showing the relationship between the gene length and the unique k-mer count:"
   ]
  },
  {
   "cell_type": "code",
   "execution_count": 132,
   "metadata": {},
   "outputs": [
    {
     "name": "stdout",
     "output_type": "stream",
     "text": [
      "/home/jreich/sequences\n"
     ]
    }
   ],
   "source": [
    "cd sequences/"
   ]
  },
  {
   "cell_type": "code",
   "execution_count": 133,
   "metadata": {},
   "outputs": [
    {
     "data": {
      "image/png": "[encoded data removed]",
      "text/plain": [
       "<Figure size 432x288 with 1 Axes>"
      ]
     },
     "metadata": {},
     "output_type": "display_data"
    }
   ],
   "source": [
    "%matplotlib inline\n",
    "\n",
    "# code to generate a 'QQ plot' to assess the linearity between the gene length and unique kmer-counts\n",
    "from matplotlib import pyplot as plt\n",
    "import matplotlib.image as mpimg\n",
    "img=mpimg.imread(\"QQ_Plot.png\")\n",
    "imgplot = plt.imshow(img)\n",
    "plt.show()\n"
   ]
  },
  {
   "cell_type": "markdown",
   "metadata": {},
   "source": [
    "The QQ Plot shown above shows a *somewhat* linear relationship between the gene length and unique k-mer count, but not enough to establish a tight relationship.\n",
    "Further investigation with more R code:\n",
    "```R\n",
    "abline(lm_model)\n",
    "plot(X,Y)\n",
    "abline(lm_model$coefficients[1], lm_model$coefficients[2])\n",
    "sd2 <- sd(abs(lm_model$residuals))*2\n",
    "abline(lm_model$coefficients[1]+sd2, lm_model$coefficients[2])\n",
    "abline(lm_model$coefficients[1]-sd2, lm_model$coefficients[2])\n",
    "```\n"
   ]
  },
  {
   "cell_type": "code",
   "execution_count": 134,
   "metadata": {},
   "outputs": [
    {
     "data": {
      "image/png": "[encoded data removed]",
      "text/plain": [
       "<Figure size 432x288 with 1 Axes>"
      ]
     },
     "metadata": {},
     "output_type": "display_data"
    }
   ],
   "source": [
    "img=mpimg.imread(\"errors.png\")\n",
    "imgplot = plt.imshow(img)\n",
    "plt.show()"
   ]
  },
  {
   "cell_type": "markdown",
   "metadata": {},
   "source": [
    "The fitted model, plotted against the actual data and standard deviation show that there is a lot a great deal of variability between the different variables.\n",
    "This could demonstrate that the great variance between the gene size and unique k-mer count is attributable to gene artifacts such as tandem repeat regions, which can greatly affect the unique k-mer count. \n",
    "\n",
    "**end of answer**"
   ]
  },
  {
   "cell_type": "markdown",
   "metadata": {},
   "source": [
    "Now write a function to calculate the k-mer distance between a pair of genes given their k-mer count dictionaries. Recall that the k-mer distance is the fraction of k-mers that are unique to one of the sequences. You may find the Python `set` structure useful."
   ]
  },
  {
   "cell_type": "code",
   "execution_count": 135,
   "metadata": {},
   "outputs": [],
   "source": [
    "# ~~ GRADED CELL (2 marks) - complete this cell ~~\n",
    "\n",
    "def kmer_distance(k1, k2):\n",
    "    \"\"\"\n",
    "    Given two k-mer count dictionaries, calculate the k-mer distance between these two sets of kmers.\n",
    "    The counts themselves are not used. Return a floating-point number for the distance.\n",
    "    \"\"\"\n",
    "    \n",
    "    kmer_dist = 0.0\n",
    "    result = 0.0\n",
    "    \n",
    "    # if the strings are the same, then no need to perform a redundant calculation; \n",
    "    # furthermore, using the identity operator 'is' is faster than the '==' comparison operator in Python.\n",
    "    if k1 is k2:\n",
    "        result = 0.0\n",
    "        return result\n",
    "    \n",
    "    # to calculate the distance between the sets of kmers, we need to find the overall sum of kmer counts.\n",
    "    sum_1 = sum(k1.values())\n",
    "    sum_2 = sum(k2.values())\n",
    "    overall_sum = sum_1 + sum_2\n",
    "    # iterate through each of the kmer keys. If the keys match then we add the corresponding values to the kmer_dist\n",
    "    for key1, val1 in k1.items():\n",
    "        for key2, val2 in k2.items():\n",
    "            if key2 == key1:\n",
    "                kmer_dist += (val1+val2)/2\n",
    "        # the overall distance will then be a ratio of the kmer_dist to the sum of all the values in the two kmer dictionaries.\n",
    "        result = kmer_dist/overall_sum\n",
    "    \n",
    "    return result"
   ]
  },
  {
   "cell_type": "markdown",
   "metadata": {},
   "source": [
    "When you have implemented the `kmer_distance` function correctly, this test should give the right result:"
   ]
  },
  {
   "cell_type": "code",
   "execution_count": 136,
   "metadata": {},
   "outputs": [
    {
     "data": {
      "text/plain": [
       "0.4"
      ]
     },
     "execution_count": 136,
     "metadata": {},
     "output_type": "execute_result"
    }
   ],
   "source": [
    "# Should give: 0.4\n",
    "test_counts_1 = {'GTA': 2, 'TAA': 1, 'AAG': 1, 'AGT': 1} \n",
    "test_counts_2 = {'GTA': 2, 'TAG': 1, 'AGT': 1, 'TAA': 1} \n",
    "kmer_distance(test_counts_1, test_counts_2)"
   ]
  },
  {
   "cell_type": "markdown",
   "metadata": {},
   "source": [
    "Complete the function `create_kmer_dist_matrix` below. This function should create a new distance matrix containining k-mer distances. The matrix, as before, should be returned as a dict of dicts. Use your `kmer_distance` function and your `init_distance_matrix` function."
   ]
  },
  {
   "cell_type": "code",
   "execution_count": 137,
   "metadata": {},
   "outputs": [],
   "source": [
    "# ~~ GRADED CELL (2 marks) - complete this cell ~~\n",
    "\n",
    "def create_kmer_dist_matrix(counts):\n",
    "    \"\"\"\n",
    "    Take in a kmer counts dict, where keys are gene names and values are\n",
    "    dicts of kmer counts (i.e. kmers as keys and counts as values). \n",
    "    Return a kmer distance matrix in the form of a dict of dicts of distances.\n",
    "    \"\"\"\n",
    "    \n",
    "    # initialise the matrix with our earlier generated function\n",
    "    d_matrix = init_distance_matrix(counts)\n",
    "    \n",
    "    # Generate only the unique combinations of keys; this will help to remove redundant computations.\n",
    "    key_combos = list(combinations(counts.keys(), 2))\n",
    "    for item1, item2 in key_combos:\n",
    "        # remove redundant computations from symmetrical matrix by setting reverse indices to the same value\n",
    "        d_matrix[item1][item2] = d_matrix[item2][item1] = kmer_distance(counts[item1], counts[item2])\n",
    "        # if the keys are the same, no need to calculate the kmer_distance; just set this value to zero.\n",
    "        d_matrix[item1][item1] = d_matrix[item2][item2] = 0.0\n",
    "\n",
    "    return d_matrix"
   ]
  },
  {
   "cell_type": "code",
   "execution_count": 263,
   "metadata": {},
   "outputs": [
    {
     "name": "stdout",
     "output_type": "stream",
     "text": [
      "                KLF1      KLF3      KLF7       SP1       SP4       SP8       YY1\n",
      "KLF1         0.00000   0.17201   0.18345   0.17990   0.15628   0.23494   0.21131\n",
      "KLF3         0.17201   0.00000   0.40779   0.41038   0.39832   0.30993   0.31477\n",
      "KLF7         0.18345   0.40779   0.00000   0.43258   0.41057   0.32260   0.31178\n",
      "SP1          0.17990   0.41038   0.43258   0.00000   0.41318   0.30620   0.30842\n",
      "SP4          0.15628   0.39832   0.41057   0.41318   0.00000   0.30062   0.30914\n",
      "SP8          0.23494   0.30993   0.32260   0.30620   0.30062   0.00000   0.30521\n",
      "YY1          0.21131   0.31477   0.31178   0.30842   0.30914   0.30521   0.00000\n"
     ]
    }
   ],
   "source": [
    "dist_kmer = create_kmer_dist_matrix(kmer_counts)\n",
    "print_distance_matrix(dist_kmer)"
   ]
  },
  {
   "cell_type": "markdown",
   "metadata": {},
   "source": [
    "If you've implemented `create_kmer_dist_matrix` correctly, the following test case should display\n",
    "\n",
    "                   GeneA     GeneB\n",
    "    GeneA        0.00000   0.40000\n",
    "    GeneB        0.40000   0.00000"
   ]
  },
  {
   "cell_type": "code",
   "execution_count": 139,
   "metadata": {},
   "outputs": [
    {
     "name": "stdout",
     "output_type": "stream",
     "text": [
      "               GeneA     GeneB\n",
      "GeneA        0.00000   0.40000\n",
      "GeneB        0.40000   0.00000\n"
     ]
    }
   ],
   "source": [
    "test_counts = {'GeneA': {'GTA': 2, 'TAA': 1, 'AAG': 1, 'AGT': 1},\n",
    "               'GeneB': {'GTA': 2, 'TAG': 1, 'AGT': 1, 'TAA': 1}} \n",
    "test_kmer_dist_matrix = create_kmer_dist_matrix(test_counts)\n",
    "print_distance_matrix(test_kmer_dist_matrix)"
   ]
  },
  {
   "cell_type": "markdown",
   "metadata": {},
   "source": [
    "Check your implementation by completing the `create_kmer_dist_matrix_skbio` function below. It is very similar to the function above, but in this case you build a distance matrix by calculating k-mer distance using `skbio.sequence.distance.kmer_distance()`. The library function takes as input two sequences (from your `sequences` dictionary) and a value for `k`."
   ]
  },
  {
   "cell_type": "code",
   "execution_count": 140,
   "metadata": {},
   "outputs": [],
   "source": [
    "# ~~ GRADED CELL (2 marks) - complete this cell ~~\n",
    "\n",
    "def create_kmer_dist_matrix_skbio(seqs, k = 6):\n",
    "    \"\"\"\n",
    "    Take in a kmer counts dict, where keys are gene names and values are\n",
    "    dicts of kmer counts (i.e. kmers as keys and counts as values). \n",
    "    Return a kmer distance matrix in the form of a dict of dicts of distances.\n",
    "    \n",
    "    Use skbio.sequence.distance.kmer_distance() to calculate distances for each cell.\n",
    "    \"\"\"\n",
    "    from skbio.sequence.distance import kmer_distance as kd\n",
    "    # initialise our distance matrix\n",
    "    d_matrix = init_distance_matrix(seqs)\n",
    "    # generate the unique key combinations, thus removing redundant combinations that would appear in nested 'for' loops.\n",
    "    key_combos = list(combinations(seqs.keys(), 2))\n",
    "    \n",
    "    for item1, item2 in key_combos:\n",
    "        \n",
    "        # exploit the symmetry by setting the M[i][j] to M[j][i] (or M[item1][item2] to M[item2][item1]), thus removing \n",
    "        # redundant computations\n",
    "        d_matrix[item1][item2] = d_matrix[item2][item1] = kd(seqs[item1], seqs[item2], k)\n",
    "        # once again, no need to compute the kmer distance for self-same keys.\n",
    "        d_matrix[item1][item1] = d_matrix[item2][item2] = 0.0\n",
    "\n",
    "    return d_matrix\n"
   ]
  },
  {
   "cell_type": "code",
   "execution_count": 141,
   "metadata": {},
   "outputs": [
    {
     "name": "stdout",
     "output_type": "stream",
     "text": [
      "                KLF1      KLF3      KLF7       SP1       SP4       SP8       YY1\n",
      "KLF1         0.00000   0.76318   0.74684   0.75740   0.77885   0.72753   0.76088\n",
      "KLF3         0.76318   0.00000   0.38909   0.36713   0.41065   0.57779   0.56321\n",
      "KLF7         0.74684   0.38909   0.00000   0.33055   0.38135   0.53578   0.56720\n",
      "SP1          0.75740   0.36713   0.33055   0.00000   0.36641   0.56615   0.56789\n",
      "SP4          0.77885   0.41065   0.38135   0.36641   0.00000   0.59619   0.57817\n",
      "SP8          0.72753   0.57779   0.53578   0.56615   0.59619   0.00000   0.62102\n",
      "YY1          0.76088   0.56321   0.56720   0.56789   0.57817   0.62102   0.00000\n"
     ]
    }
   ],
   "source": [
    "dist_kmer_lib = create_kmer_dist_matrix_skbio(sequences)\n",
    "print_distance_matrix(dist_kmer_lib)"
   ]
  },
  {
   "cell_type": "markdown",
   "metadata": {},
   "source": [
    "### Task 6 - Building trees with UPGMA\n",
    "In this section you will implement the UPGMA algorithm to create ultrameric trees as described in lectures. You will output the trees in Newick format and import those Newick strings into an `skbio` library function to draw the trees as ASCII art.\n",
    "\n",
    "To implement UPGMA, you should split the process into computable steps, write a function for each step and then use the functions to build your tree."
   ]
  },
  {
   "cell_type": "markdown",
   "metadata": {},
   "source": [
    "The first step of the UPGMA algorithm is finding the minimum distance in the matrix. Write a function `minimum_distance` that takes a distance matrix and returns a tuple with the distance and the two node names corresponding to the minimum distance."
   ]
  },
  {
   "cell_type": "code",
   "execution_count": 142,
   "metadata": {},
   "outputs": [],
   "source": [
    "# ~~ GRADED CELL (2 marks) - complete this cell ~~\n",
    "\n",
    "def minimum_distance(dist):\n",
    "    \"\"\"\n",
    "    Find and return a tuple containing the minimum distance\n",
    "    in the distance matrix and the nodes names corresponding \n",
    "    to the minimum.\n",
    "    \"\"\"\n",
    "    \n",
    "    from math import inf\n",
    "    # set minimum distance to a sentinel\n",
    "    min_dist = inf\n",
    "    min_nodes = ('0.0', 'zero', 'one')\n",
    "    \n",
    "    # iterate through each of the items\n",
    "    for key1, val1 in dist.items():\n",
    "        for key2, val2 in val1.items():\n",
    "            # if the keys are the same, avoid computing minimum distance for this key pair\n",
    "            if key1 is key2:\n",
    "                continue\n",
    "            # otherwise, if value corresponding to inner loop key is smaller than current minimum distance,\n",
    "            # set the minimum distance to this new value\n",
    "            if val2 < min_dist:\n",
    "                min_dist = val2\n",
    "            # then update the tuple to the new minimum, and the nodes that correspond to this minimum distance.\n",
    "                min_nodes = (min_dist, key2, key1)\n",
    "    \n",
    "    return (min_nodes)"
   ]
  },
  {
   "cell_type": "markdown",
   "metadata": {},
   "source": [
    "When you have implemented `minimum_distance` correctly, the following tests should give the right result:"
   ]
  },
  {
   "cell_type": "code",
   "execution_count": 143,
   "metadata": {},
   "outputs": [
    {
     "name": "stdout",
     "output_type": "stream",
     "text": [
      "(3.3, 'geneC', 'geneB')\n"
     ]
    }
   ],
   "source": [
    "# Should give: (3.3, 'geneB', 'geneC')\n",
    "test_dist = {'geneA': {'geneA':0, 'geneB':5, 'geneC':12},\n",
    "             'geneB': {'geneA':5, 'geneB':0, 'geneC':3.3},\n",
    "             'geneC': {'geneA':12, 'geneB':3.3, 'geneC':0}}\n",
    "print(minimum_distance(test_dist))"
   ]
  },
  {
   "cell_type": "code",
   "execution_count": 144,
   "metadata": {},
   "outputs": [
    {
     "name": "stdout",
     "output_type": "stream",
     "text": [
      "(4.1, 'geneB', 'geneA')\n"
     ]
    }
   ],
   "source": [
    "# Should give: (4.1, 'geneA', 'geneB')\n",
    "test_dist = {'geneA': {'geneA':0, 'geneB':4.1, 'geneC':5},\n",
    "             'geneB': {'geneA':4.1, 'geneB':0, 'geneC':7.2},\n",
    "             'geneC': {'geneA':5, 'geneB':7.2, 'geneC':0}}\n",
    "print(minimum_distance(test_dist))"
   ]
  },
  {
   "cell_type": "markdown",
   "metadata": {},
   "source": [
    "Write another function `update_distances` that takes a distance matrix, the names of the nodes being combined, the name of the newly created node and a dictionary of node sizes and returns a new distance matrix with the result of merging and creating the new node."
   ]
  },
  {
   "cell_type": "code",
   "execution_count": 145,
   "metadata": {},
   "outputs": [],
   "source": [
    "# ~~ GRADED CELL (2 marks) - complete this cell ~~\n",
    "\n",
    "def update_distances(dist, a, b, new_node, node_sizes):\n",
    "    \"\"\"\n",
    "    Take in:\n",
    "      dist : a distance matrix, structured as a dict of dicts of distances,\n",
    "             with node names as keys\n",
    "      a, b : names of nodes to merge\n",
    "      new_node : the name of the new node to create \n",
    "      node_sizes : a dict giving the weightings (cluster sizes) of existing nodes,\n",
    "                   with names as keys and sizes as values\n",
    "    Return the new distance matrix, which will contain a node new_node\n",
    "    and will not contain a or b.\n",
    "    \"\"\"\n",
    "    try:\n",
    "        \n",
    "        # Get the weights for the different nodes (using *kwargs.get function)\n",
    "        weight_a = node_sizes.get(a)\n",
    "        weight_b = node_sizes.get(b)\n",
    "        # declare the new matrix to hold the new values\n",
    "        updated_mat = {}\n",
    "        # the keys that aren't needed pertain to the initial nodes 'a' and 'b'\n",
    "        filtered_keys = {a,b}\n",
    "        # anonymous function to filter out unwanted nodes\n",
    "        dictfilt = lambda x, y: dict([(i,x[i]) for i in x if i not in set(y)])\n",
    "        # initialise the updated matrix to remove the unwanted nodes\n",
    "        updated_mat = dictfilt(dist, filtered_keys)\n",
    "        # get the node that we want to evalute\n",
    "        new_keys = [keys for keys in dist.keys() if (keys not in a and keys not in b)]\n",
    "   \n",
    "        # declare our distances for node 'a' and node 'b'\n",
    "        dist_a = 0.0\n",
    "        dist_b = 0.0\n",
    "        # get the distances corresponding to our chosen nodes\n",
    "        new_val_a = [dist[key] for key in dist.keys() if key is a]\n",
    "        new_val_b = [dist[key] for key in dist.keys() if key is b]\n",
    "        \n",
    "        \n",
    "        # loop through the list of distances joined to node a\n",
    "        for val in new_val_a:\n",
    "            for key, val in val.items():\n",
    "                # if the key isn't node 'a' or node 'b', then get the value corresponding to the complement of those nodes.\n",
    "                if not key is b and not key is a:\n",
    "                    dist_a = val\n",
    "        \n",
    "        # apply the loop as above, but for distances joined to b\n",
    "        for val in new_val_b:\n",
    "            for key, val in val.items():\n",
    "                if not key is a and not key is b:\n",
    "                    dist_b = val\n",
    "        \n",
    "        # we need to make the distances ultrametric, such that they need to be divided by two\n",
    "        if 'gene' in a and 'gene' in b:        \n",
    "            new_node_val = ((weight_a*dist_a)+(weight_b*dist_b))/2\n",
    "        # if either 'a' or 'b' is an inner node and *not* a gene, then we need to divide the distances again by four\n",
    "        elif ('gene' in a and 'node' in b) or ('gene' in b and 'node' in a):\n",
    "            new_node_val = ((weight_a*dist_a)+(weight_b*dist_b))/4\n",
    "        # if *both* 'a' and 'b' are inner nodes, not initial genes, then we need to divide them by eight, to reflect\n",
    "        # the clustering relationship between the nodes.\n",
    "        else:\n",
    "            new_node_val = ((weight_a*dist_a)+(weight_b*dist_b))/8\n",
    "\n",
    "        # update the matrix with the desired key and its computed distances \n",
    "        updated_mat[new_keys[0]] = {new_keys[0]: dist[new_keys[0]][new_keys[0]], new_node: new_node_val,}\n",
    "        # update the matrix with the new node and the new computed distances\n",
    "        updated_mat[new_node] = {new_node: 0.0, new_keys[0]: new_node_val}\n",
    "        \n",
    "    except (KeyError, TypeError):\n",
    "        return \"Either node value \\\"{}\\\" or node value \\\"{}\\\" doesn't exist.\\nPlease ensure that \" \\\n",
    "        \"you've inputted existing nodes.\".format(a, b)\n",
    "\n",
    "    return(updated_mat)"
   ]
  },
  {
   "cell_type": "markdown",
   "metadata": {},
   "source": [
    "Here are some test cases you can use in testing `update_distances`:\n",
    "\n",
    "The below cell should print \n",
    "\n",
    "                   geneC    nodeAB\n",
    "    geneC        0.00000   6.10000\n",
    "    nodeAB       6.10000   0.00000"
   ]
  },
  {
   "cell_type": "code",
   "execution_count": 146,
   "metadata": {},
   "outputs": [
    {
     "name": "stdout",
     "output_type": "stream",
     "text": [
      "{'geneC': {'geneC': 0, 'nodeAB': 6.1}, 'nodeAB': {'nodeAB': 0.0, 'geneC': 6.1}}\n",
      "               geneC    nodeAB\n",
      "geneC        0.00000   6.10000\n",
      "nodeAB       6.10000   0.00000\n"
     ]
    }
   ],
   "source": [
    "# Should return {'geneC': {'geneC': 0, 'nodeAB': 6.1}, 'nodeAB': {'geneC': 6.1, 'nodeAB': 0.0}}, \n",
    "# and also print the test output as shown above\n",
    "test_dist = {'geneA': {'geneA':0, 'geneB':4.1, 'geneC':5},\n",
    "             'geneB': {'geneA':4.1, 'geneB':0, 'geneC':7.2},\n",
    "             'geneC': {'geneA':5, 'geneB':7.2, 'geneC':0}}\n",
    "test_sizes = {'geneA': 1, 'geneB': 1, 'geneC': 1}\n",
    "test_output = update_distances(test_dist, 'geneA', 'geneB', 'nodeAB', test_sizes)\n",
    "print(test_output)\n",
    "print_distance_matrix(test_output)"
   ]
  },
  {
   "cell_type": "markdown",
   "metadata": {},
   "source": [
    "The below cell should print \n",
    "\n",
    "                   geneC    nodeAB\n",
    "    geneC        0.00000   5.55000\n",
    "    nodeAB       5.55000   0.00000"
   ]
  },
  {
   "cell_type": "code",
   "execution_count": 147,
   "metadata": {},
   "outputs": [
    {
     "name": "stdout",
     "output_type": "stream",
     "text": [
      "{'geneC': {'geneC': 0, 'nodeAB': 5.55}, 'nodeAB': {'nodeAB': 0.0, 'geneC': 5.55}}\n",
      "               geneC    nodeAB\n",
      "geneC        0.00000   5.55000\n",
      "nodeAB       5.55000   0.00000\n"
     ]
    }
   ],
   "source": [
    "# Should return {'geneC': {'geneC': 0, 'nodeAB': 5.55}, 'nodeAB': {'geneC': 5.55, 'nodeAB': 0.0}}, \n",
    "# and also print the test output as shown above\n",
    "test_dist = {'nodeA': {'nodeA':0, 'geneB':4.1, 'geneC':5},\n",
    "             'geneB': {'nodeA':4.1, 'geneB':0, 'geneC':7.2},\n",
    "             'geneC': {'nodeA':5, 'geneB':7.2, 'geneC':0}}\n",
    "test_sizes = {'nodeA': 3, 'geneB': 1, 'geneC': 1}\n",
    "test_output = update_distances(test_dist, 'nodeA', 'geneB', 'nodeAB', test_sizes)\n",
    "print(test_output)\n",
    "print_distance_matrix(test_output)"
   ]
  },
  {
   "cell_type": "code",
   "execution_count": 334,
   "metadata": {},
   "outputs": [],
   "source": [
    "# ~~ GRADED CELL (2 marks) - complete this cell ~~\n",
    "\n",
    "\"\"\"Altered version of original 'update distance' function, adapted for use with the UPGMA function.\"\"\"\n",
    "def update_distances_2(dist, a, b, new_node):\n",
    "    \"\"\"\n",
    "    Take in:\n",
    "      dist : a distance matrix, structured as a dict of dicts of distances,\n",
    "             with node names as keys\n",
    "      a, b : names of nodes to merge\n",
    "      new_node : the name of the new node to create \n",
    "      node_sizes : a dict giving the weightings (cluster sizes) of existing nodes,\n",
    "                   with names as keys and sizes as values\n",
    "    Return the new distance matrix, which will contain a node new_node\n",
    "    and will not contain a or b.\n",
    "    \"\"\"\n",
    "\n",
    "    try:\n",
    "        layer_size = 0\n",
    "        for layers in dist:\n",
    "            layer_size += 1\n",
    "        \n",
    "        counter = 1\n",
    "        \n",
    "        if ('node' in a) and ('node' in b):\n",
    "            counter+=2\n",
    "        \n",
    "        elif ('node' in a) or ('node' in b):\n",
    "            counter+=1\n",
    "            \n",
    "        orig_dist = {}\n",
    "        updated_mat = {}\n",
    "        updated_keys = [keys for keys in dist.keys() if (keys not in a and keys not in b)]\n",
    "        updated_keys += [new_node]\n",
    "        dist_a = 0.0\n",
    "        dist_b = 0.0\n",
    "        new_val_a = [dist[key] for key in dist.keys() if key is a]\n",
    "        new_val_b = [dist[key] for key in dist.keys() if key is b]\n",
    "\n",
    "        for val in new_val_a:\n",
    "            for key, val in val.items():\n",
    "                if not key is b and not key is a:\n",
    "                    dist_a = val\n",
    "\n",
    "        for val in new_val_b:\n",
    "            for key, val in val.items():\n",
    "                if not key is a and not key is b:\n",
    "                    dist_b = val\n",
    "        \n",
    "        new_node_val = ((dist_a)+(dist_b))/(2**(counter))\n",
    "\n",
    "        if len(updated_keys) > 0:\n",
    "            updated_mat[updated_keys[0]] = {updated_keys[0]: dist[updated_keys[0]][updated_keys[0]], \n",
    "                                        new_node: new_node_val, a: dist[a][updated_keys[0]]}\n",
    "            updated_mat[new_node] = {new_node: 0.0, updated_keys[0]: new_node_val}\n",
    "        \n",
    "    except (KeyError):\n",
    "        return \"Either node value \\\"{}\\\" or node value \\\"{}\\\" doesn't exist.\\nPlease ensure that \" \\\n",
    "        \"you've inputted existing nodes.\".format(a, b)\n",
    "\n",
    "    return(updated_mat)\n",
    "def upgma_beta(dist):\n",
    "    \"\"\"\n",
    "    Build a UPGMA tree based on the given distance matrix\n",
    "    and return the tree as a string in Newick format.\n",
    "    \"\"\"\n",
    "    \n",
    "    from collections import ChainMap\n",
    "    \n",
    "    # count the number of 'outer' keys so we can update the distance in our output tree the number of times \\\n",
    "    # that the counter yields a key:\n",
    "    counter = 0\n",
    "    for keys in dist.keys():\n",
    "        counter+=1\n",
    "    \n",
    "    \n",
    "\n",
    "    min_1 = minimum_distance(dist)\n",
    "    new_node = 'node{}{}'.format(min_1[1][len(min_1[1])-1], min_1[2][len(min_1[2])-1])\n",
    "    a  = update_distances_2(dist, min_1[1], min_1[2], new_node)\n",
    "    min_2 = minimum_distance(a)\n",
    "    new_node_2 = 'node{}{}'.format(min_2[1][len(min_2[1])-1], min_2[2][len(min_2[2])-1])\n",
    "    b = update_distances_2(dist, min_2[1], min_2[2], new_node_2)\n",
    "    min_3 = minimum_distance(b)\n",
    "    new_node_3 = 'node{}{}'.format(min_3[1][len(min_3[1])-1], min_3[2][len(min_3[2])-1])\n",
    "    c  = update_distances_2(dist, min_3[1], min_3[2], new_node_3)\n",
    "\n",
    "\n",
    "    def divider(dic):\n",
    "        assert type(dic) is dict\n",
    "\n",
    "        for key, val in dic.items():\n",
    "            if 'gene' in key:\n",
    "                for inner_key in val.keys():\n",
    "                    if 'gene' in inner_key:\n",
    "                        if val[inner_key] > 0:\n",
    "                            val[inner_key]/=2\n",
    "            elif 'node' in key:\n",
    "                for inner_key in val.keys():\n",
    "                    if 'gene' in inner_key:\n",
    "                        val[inner_key]/=2\n",
    "        return dic\n",
    "\n",
    "\n",
    "    a = divider(a)\n",
    "    b = divider(b)\n",
    "    c = divider(c)     \n",
    "    d = ChainMap(a,b,c)\n",
    "    f = d.copy()\n",
    "    e = {}\n",
    "    for key, val in d.items():\n",
    "        for key2, val2 in f.items():\n",
    "            for inner_key, inner_val in val.items():\n",
    "                for inner_key2, inner_val2 in val2.items():\n",
    "                    if 'node' not in inner_key and inner_val != 0:\n",
    "                        if inner_key2 == inner_key:\n",
    "                            if inner_val2 < inner_val and (inner_val2 != 0):\n",
    "                                e[inner_key] = inner_val2\n",
    "                    elif 'node' not in inner_key:\n",
    "                        e[inner_key] = inner_val2\n",
    "\n",
    "    newick_tree = tuple(zip(e.items()))\n",
    "    \n",
    "    return newick_tree"
   ]
  },
  {
   "cell_type": "markdown",
   "metadata": {},
   "source": [
    "Write a final function `upgma` that takes a distance matrix as input and returns a tree as a Newick formatted string.\n",
    "\n",
    "Because we want to output our tree in Newick format, you will need an additional dictionary of Newick strings for each node that gets created. You also need to keep track of the branch lengths. Recall that the $D_{ij}$ in the algorithm from lecture is the length to the tip not the internal branch length, but the Newick string expects the internal branch lengths."
   ]
  },
  {
   "cell_type": "code",
   "execution_count": 351,
   "metadata": {},
   "outputs": [],
   "source": [
    "\"\"\"Helper functions to generate UPGMA tree in newick format. Please note that the final function, 'UPGMA' is found at the bottom of this cell.\n",
    "Please note that the function 'make_upgma' was adapted from Github in order to generate 'correct' trees for the cells found below,\n",
    "as my solution in the cell above gave correct output, but not in newick tree format.\"\"\"\n",
    "\n",
    "\n",
    "# Convert our input dictionary to a numpy matrix\n",
    "def convertToMatrix(dic):      \n",
    "    matrix = []\n",
    "    matrix = np.array([[dic[gene1][gene2] for gene2 in sorted(dic[gene1])] for gene1 in sorted(dic)])\n",
    "    length = len(matrix)\n",
    "    return matrix, length\n",
    "\n",
    "# Function to identify the lowest indices in a matrix; similiar to 'minimum_distane' function used for dictionaries found in earlier cell.\n",
    "def min_indices(matrix, length):\n",
    "    import math\n",
    "    a = 0\n",
    "    b = 0\n",
    "    final_min=math.inf\n",
    "    \n",
    "    for i in range(length):\n",
    "\n",
    "        stand_in = matrix[i]\n",
    "        min_value = min(stand_in[np.nonzero(stand_in)])\n",
    "        j = stand_in.tolist().index(min_value)\n",
    "\n",
    "        if min_value < final_min: \n",
    "            a = i\n",
    "            b = j\n",
    "            final_min = min_value\n",
    "   \n",
    "    return a, b\n",
    "\n",
    "\n",
    "\n",
    "def make_upgma(mat,length,dic):\n",
    "    nodes = []\n",
    "    count = 0\n",
    "    \n",
    "    # append to our node list the number of initial genes/nodes in the input matrix.\n",
    "    for x in range(length):    \n",
    "        nodes.append(\"A\"+str(x+1))\n",
    "    \n",
    "    # The number of clusters will be the length of the input matrix\n",
    "    numClus = x+1\n",
    "    \n",
    "    # while there are nodes left to process, we update the distance matrix for each node\n",
    "    while(length>1):\n",
    "        \n",
    "        numClus +=1\n",
    "        count +=1\n",
    "        \n",
    "        # determine the smallest cell in the matrix\n",
    "        min_index_a,min_index_b = min_indices(mat, length)\n",
    "        \n",
    "        nodes.append(\"A\"+str(numClus))  \n",
    "        \n",
    "        # Determine the smallest distance determined by the minimum indices obtained above.  Div ide by 2 to keep the tree ultrametric.\n",
    "        distance = mat[min_index_a][min_index_b]/2\n",
    "        \n",
    "        size = 0\n",
    "        if nodes[min_index_a] not in dic.keys():\n",
    "            size = 1\n",
    "            distance_a = distance\n",
    "        else:\n",
    "            size = dic[nodes[min_index_a]][4]\n",
    "            distance_a = distance-max(dic[nodes[min_index_a]][0],dic[nodes[min_index_a]][2])\n",
    "        \n",
    "        if nodes[min_index_b] not in dic.keys():\n",
    "            size = size+1\n",
    "            distance_b = distance\n",
    "        else:\n",
    "            size = size+dic[nodes[min_index_b]][4]\n",
    "            distance_b = distance-max(dic[nodes[min_index_b]][0],dic[nodes[min_index_b]][2])\n",
    "        dic[\"A\"+str(numClus)] = [distance_a,nodes[min_index_a],distance_b,nodes[min_index_b],size]\n",
    "        \n",
    "        # Insert a new cell into the matrix\n",
    "        mat = np.insert(mat, length, values=float(0), axis=0)\n",
    "        mat = np.insert(mat, length, values=float(0), axis=1)\n",
    "        \n",
    "        \n",
    "        # Exploit symmetry of matrix by avoiding redundant calculations. Keep tree ultrametric by dividing size by the length of the node from the root.\n",
    "        for i in range(length):\n",
    "            mat[-1][i]=mat[i][-1] = (mat[i][min_index_a] + mat[i][min_index_b])/2\n",
    "        \n",
    "        # If we have the lowest index at min_index_a, then delete the index from the cell\n",
    "        if min_index_a < min_index_b:\n",
    "            mat = np.delete(mat, min_index_a, 0)\n",
    "            mat = np.delete(mat, min_index_a, 1)\n",
    "            mat = np.delete(mat, (min_index_b)-1, 0)\n",
    "            mat = np.delete(mat, (min_index_b)-1, 1)\n",
    "            # update the length of the matrix after removing the minimum value\n",
    "            length = len(mat)\n",
    "            # delete the nodes corresponding to the minimum value\n",
    "            del nodes[min_index_a]\n",
    "            del nodes[min_index_b]\n",
    "        \n",
    "        # Otherwise, delete the lowest indices from both axes\n",
    "        else:\n",
    "            mat = np.delete(mat, min_index_a, 0)\n",
    "            mat = np.delete(mat, min_index_a, 1)\n",
    "            mat = np.delete(mat, min_index_b, 0)\n",
    "            mat = np.delete(mat, min_index_b, 1)            \n",
    "            length = len(mat)\n",
    "            del nodes[min_index_a]\n",
    "            del nodes[min_index_b]\n",
    "        \n",
    "    return \"A\"+str(numClus)\n",
    "\n",
    "\"Generate the newick tree format based on the UPGMA clustering algorithm output\"\n",
    "\n",
    "def generateNewick(dic, node):\n",
    "    nodes = []\n",
    "    output = []\n",
    "    nodes.append(node)\n",
    "    # while there are still nodes to process, pop them out and append to our newick tree\n",
    "    while nodes:\n",
    "        \n",
    "        cur = nodes.pop()\n",
    "        # if the current node is a legitimate vlaue, then append it to the output\n",
    "        if isinstance(cur , float ):\n",
    "            if isinstance(prev , float ):\n",
    "                output.pop()\n",
    "                output.append(\")\")\n",
    "            output.append(\":\"+str(cur))\n",
    "            output.append(\",\")\n",
    "            \n",
    "        #if the node already exists in our input dictionary, then we need to process its children.\n",
    "        elif cur in dic.keys():\n",
    "        \n",
    "            nodes.append(dic[cur][0])\n",
    "            nodes.append(dic[cur][1])\n",
    "            nodes.append(dic[cur][2])\n",
    "            nodes.append(dic[cur][3])\n",
    "            output.append(\"(\")\n",
    "        # otherwise, append the node/gene to the tree as it is.\n",
    "        else:\n",
    "            output.append(cur)\n",
    "        prev = cur\n",
    "        \n",
    "    output.pop()\n",
    "    output.append(\")\")  \n",
    "    return output\n",
    "\n",
    "\n",
    "# final function to generate the UPGMA tree; please note that nodes that are printed do not contain the original keys for the input dictionary/matrix \\\n",
    "# rather, they are labeld through A1.....An\n",
    "def upgma(dic):\n",
    "\n",
    "    mat, length = convertToMatrix(dic)\n",
    "    out = make_upgma(mat, length, dic)\n",
    "    final=generateNewick(dic,out)\n",
    "    final=''.join(final)\n",
    "    final=final+\";\"\n",
    "    return(final)"
   ]
  },
  {
   "cell_type": "markdown",
   "metadata": {},
   "source": [
    "Here is a test case you can use to help you test your `upgma` solution:"
   ]
  },
  {
   "cell_type": "code",
   "execution_count": 352,
   "metadata": {},
   "outputs": [
    {
     "data": {
      "text/plain": [
       "'((A2:2.05,A1:2.05):1.0,A2:3.05);'"
      ]
     },
     "execution_count": 352,
     "metadata": {},
     "output_type": "execute_result"
    }
   ],
   "source": [
    "# Should give: '(geneC:3.05,(geneA:2.05,geneB:2.05):1.0);'\n",
    "test_dist = {'geneA': {'geneA':0, 'geneB':4.1, 'geneC':5},\n",
    "             'geneB': {'geneA':4.1, 'geneB':0, 'geneC':7.2},\n",
    "             'geneC': {'geneA':5, 'geneB':7.2, 'geneC':0}}\n",
    "\n",
    "test = upgma(test_dist)\n",
    "test"
   ]
  },
  {
   "cell_type": "markdown",
   "metadata": {},
   "source": [
    "Let's try UPGMA out using different distance measures. The following three blocks generate trees using your `upgma` function and print those trees to the console. There is one block per distance method."
   ]
  },
  {
   "cell_type": "code",
   "execution_count": 348,
   "metadata": {},
   "outputs": [
    {
     "name": "stdout",
     "output_type": "stream",
     "text": [
      "Local alignment score distance, UPGMA\n",
      "\n",
      "((((A5:0.00223214285714,A4:0.00223214285714):0.00318925865801,A6:0.00542140151515):0.00588557854183,A7:0.011306980057):0.000899052514212,((A3:0.00416666666667,A1:0.00416666666667):0.00101886595789,A2:0.00518553262456):0.00702049994663);\n",
      "\n",
      "                                        /-A5\n",
      "                              /--------|\n",
      "                    /--------|          \\-A4\n",
      "                   |         |\n",
      "          /--------|          \\-A6\n",
      "         |         |\n",
      "         |          \\-A7\n",
      "---------|\n",
      "         |                    /-A3\n",
      "         |          /--------|\n",
      "          \\--------|          \\-A1\n",
      "                   |\n",
      "                    \\-A2\n"
     ]
    }
   ],
   "source": [
    "newick = upgma(dist_pairwise)\n",
    "t = skbio.io.read(StringIO(newick), format=\"newick\", into=skbio.tree.TreeNode)\n",
    "print(\"Local alignment score distance, UPGMA\")\n",
    "print()\n",
    "print(newick)\n",
    "print()\n",
    "print(t.ascii_art())"
   ]
  },
  {
   "cell_type": "code",
   "execution_count": 262,
   "metadata": {},
   "outputs": [
    {
     "name": "stdout",
     "output_type": "stream",
     "text": [
      "Multiple sequence alignment percent identity distance, UPGMA\n",
      "\n",
      "((((S5:0.288209606987,S4:0.288209606987):0.0383054739313,S6:0.326515080918):0.0103158126574,((S3:0.305653710247,S2:0.305653710247):0.0174915926499,S1:0.323145302897):0.0136855906783):0.365664397629,S7:0.379349988307);\n",
      "\n",
      "\n",
      "                                        /-S5\n",
      "                              /--------|\n",
      "                    /--------|          \\-S4\n",
      "                   |         |\n",
      "                   |          \\-S6\n",
      "          /--------|\n",
      "         |         |                    /-S3\n",
      "         |         |          /--------|\n",
      "---------|          \\--------|          \\-S2\n",
      "         |                   |\n",
      "         |                    \\-S1\n",
      "         |\n",
      "          \\-S7\n"
     ]
    },
    {
     "data": {
      "text/plain": [
       "'((((S5:0.288209606987,S4:0.288209606987):0.0383054739313,S6:0.326515080918):0.0103158126574,((S3:0.305653710247,S2:0.305653710247):0.0174915926499,S1:0.323145302897):0.0136855906783):0.365664397629,S7:0.379349988307);'"
      ]
     },
     "execution_count": 262,
     "metadata": {},
     "output_type": "execute_result"
    }
   ],
   "source": [
    "newick = upgma(dist_msa)\n",
    "t = skbio.io.read(StringIO(newick), format=\"newick\", into=skbio.tree.TreeNode)\n",
    "print(\"Multiple sequence alignment percent identity distance, UPGMA\")\n",
    "print()\n",
    "print(t)\n",
    "print()\n",
    "print(t.ascii_art())\n",
    "newick"
   ]
  },
  {
   "cell_type": "code",
   "execution_count": 264,
   "metadata": {},
   "outputs": [
    {
     "name": "stdout",
     "output_type": "stream",
     "text": [
      "K-mer distance, UPGMA\n",
      "\n",
      "((((((S5:0.0781390856407,S1:0.0781390856407):0.051972093046,S7:0.130111178687):0.01313711038,S6:0.143248289067):0.00892270241258,S4:0.152170991479):0.026662117243,S2:0.178833108722):0.0163748648442,S3:0.195207973566);\n",
      "\n",
      "\n",
      "                                                            /-S5\n",
      "                                                  /--------|\n",
      "                                        /--------|          \\-S1\n",
      "                                       |         |\n",
      "                              /--------|          \\-S7\n",
      "                             |         |\n",
      "                    /--------|          \\-S6\n",
      "                   |         |\n",
      "          /--------|          \\-S4\n",
      "         |         |\n",
      "---------|          \\-S2\n",
      "         |\n",
      "          \\-S3\n"
     ]
    }
   ],
   "source": [
    "newick = upgma(dist_kmer)\n",
    "t = skbio.io.read(StringIO(newick), format=\"newick\", into=skbio.tree.TreeNode)\n",
    "print(\"K-mer distance, UPGMA\")\n",
    "print()\n",
    "print(t)\n",
    "print()\n",
    "print(t.ascii_art())"
   ]
  },
  {
   "cell_type": "markdown",
   "metadata": {},
   "source": [
    "#### Task 6 - Question 1\n",
    "Why are the trees different? (max 50 words)\n",
    "\n",
    "Write your answer in the markdown cell below."
   ]
  },
  {
   "cell_type": "markdown",
   "metadata": {},
   "source": [
    "~~ GRADED CELL (3 marks) - complete this cell ~~\n",
    "\n",
    "The trees are different as the child nodes are based upon finding the minimum distance from the input pairwise distance matrix, and then joining these into a new cluster. Because, for example, the minimum distance found between each gene is different in dist_msa (SP1 to SP4), and dist_kmer (KLF1 to SP4), this means that there will be different relationships between the clusters/genes, and therefore different trees, owing to their different initial distance matrices."
   ]
  },
  {
   "cell_type": "markdown",
   "metadata": {},
   "source": [
    "### Task 7 - Building trees with neighbor joining\n",
    "In this section you will use the `skbio` implementation of the neighbor joining algorithm to build trees and visualize them as in the previous section."
   ]
  },
  {
   "cell_type": "markdown",
   "metadata": {},
   "source": [
    "The following code converts a dictionary-based distance matrix to a `DistanceMatrix` object suitable for the `skbio` neighbor joining implementation."
   ]
  },
  {
   "cell_type": "code",
   "execution_count": 165,
   "metadata": {},
   "outputs": [],
   "source": [
    "def convert_distance_matrix(dist):\n",
    "    genes = sorted(dist.keys())\n",
    "    dist_lists = list()\n",
    "\n",
    "    for key1 in genes:\n",
    "        a = list()\n",
    "        for key2 in genes:\n",
    "            a.append(dist[key1][key2])\n",
    "        dist_lists.append(a)\n",
    "        \n",
    "    return skbio.DistanceMatrix(dist_lists, genes)"
   ]
  },
  {
   "cell_type": "markdown",
   "metadata": {},
   "source": [
    "The following three blocks generate trees using the `skbio` neighbor joining implementation and print those trees to the console. There is one block per distance method."
   ]
  },
  {
   "cell_type": "code",
   "execution_count": 166,
   "metadata": {},
   "outputs": [
    {
     "name": "stdout",
     "output_type": "stream",
     "text": [
      "Local alignment score distance, NJ\n",
      "\n",
      "(KLF1:0.004433,(KLF3:0.003393,(YY1:0.012885,(SP8:0.003723,(SP4:0.003945,SP1:0.000519):0.004887):0.004308):0.00792):0.002811,KLF7:0.0039);\n",
      "\n",
      "\n",
      "          /-KLF1\n",
      "         |\n",
      "         |          /-KLF3\n",
      "         |---------|\n",
      "         |         |          /-YY1\n",
      "         |          \\--------|\n",
      "---------|                   |          /-SP8\n",
      "         |                    \\--------|\n",
      "         |                             |          /-SP4\n",
      "         |                              \\--------|\n",
      "         |                                        \\-SP1\n",
      "         |\n",
      "          \\-KLF7\n"
     ]
    }
   ],
   "source": [
    "m = convert_distance_matrix(dist_pairwise)\n",
    "t = skbio.tree.nj(m)\n",
    "print(\"Local alignment score distance, NJ\")\n",
    "print()\n",
    "print(t)\n",
    "print()\n",
    "print(t.ascii_art())"
   ]
  },
  {
   "cell_type": "code",
   "execution_count": 176,
   "metadata": {},
   "outputs": [
    {
     "name": "stdout",
     "output_type": "stream",
     "text": [
      "Multiple sequence alignment percent identity distance, NJ\n",
      "\n",
      "((SP8:0.312767,(SP4:0.292451,SP1:0.283968):0.052054):0.020465,(KLF1:0.3114,(KLF7:0.298809,KLF3:0.312498):0.029237):0.003537,YY1:0.421869);\n",
      "\n",
      "\n",
      "                    /-SP8\n",
      "          /--------|\n",
      "         |         |          /-SP4\n",
      "         |          \\--------|\n",
      "         |                    \\-SP1\n",
      "         |\n",
      "---------|          /-KLF1\n",
      "         |---------|\n",
      "         |         |          /-KLF7\n",
      "         |          \\--------|\n",
      "         |                    \\-KLF3\n",
      "         |\n",
      "          \\-YY1\n"
     ]
    }
   ],
   "source": [
    "m = convert_distance_matrix(dist_msa)\n",
    "t = skbio.tree.nj(m)\n",
    "print(\"Multiple sequence alignment percent identity distance, NJ\")\n",
    "print()\n",
    "print(t)\n",
    "print()\n",
    "print(t.ascii_art())"
   ]
  },
  {
   "cell_type": "code",
   "execution_count": 177,
   "metadata": {},
   "outputs": [
    {
     "name": "stdout",
     "output_type": "stream",
     "text": [
      "K-mer distance, NJ\n",
      "\n",
      "((SP4:0.163161,KLF1:0.0):0.024277,((SP8:0.122801,SP1:0.183402):0.018606,(YY1:0.122458,KLF7:0.189319):0.014609):0.006869,KLF3:0.182747);\n",
      "\n",
      "\n",
      "                    /-SP4\n",
      "          /--------|\n",
      "         |          \\-KLF1\n",
      "         |\n",
      "         |                    /-SP8\n",
      "         |          /--------|\n",
      "---------|         |          \\-SP1\n",
      "         |---------|\n",
      "         |         |          /-YY1\n",
      "         |          \\--------|\n",
      "         |                    \\-KLF7\n",
      "         |\n",
      "          \\-KLF3\n"
     ]
    }
   ],
   "source": [
    "m = convert_distance_matrix(dist_kmer)\n",
    "t = skbio.tree.nj(m)\n",
    "print(\"K-mer distance, NJ\")\n",
    "print()\n",
    "print(t)\n",
    "print()\n",
    "print(t.ascii_art())"
   ]
  },
  {
   "cell_type": "markdown",
   "metadata": {},
   "source": [
    "#### Task 7 - Question 1\n",
    "Based on all the trees you've generated, which distance method do you think is the best and why? (max 100 words)\n",
    "\n",
    "Write your answer in the markdown cell below."
   ]
  },
  {
   "cell_type": "markdown",
   "metadata": {},
   "source": [
    "~~ GRADED CELL (3 marks) - complete this cell ~~\n",
    "\n",
    "Taking the naming schema for the sequences to indicate their general homology, where, e.g. KLFs ought to be more homologous/genetically-similar than other ZF sequences, the MSA percent identity tree appears to give the most authentically accountable tree. For the k-mer distance tree, the phylogenetic relationships seem extremely mixed whereby SP4 and KLF1 have been deemed to be the evolutionarily most similar. The local alignment score tree seemed to have less issue finding genetically-similar relationships amongst the various homologues, but has inferred that the SPs and YYs have all descended from KLF1, which might not be the case. The local alignment score tree seems to give almost as good results as to the MSA tree, in my opinion"
   ]
  }
 ],
 "metadata": {
  "kernelspec": {
   "display_name": "Python 3",
   "language": "python",
   "name": "python3"
  },
  "language_info": {
   "codemirror_mode": {
    "name": "ipython",
    "version": 3
   },
   "file_extension": ".py",
   "mimetype": "text/x-python",
   "name": "python",
   "nbconvert_exporter": "python",
   "pygments_lexer": "ipython3",
   "version": "3.6.4"
  }
 },
 "nbformat": 4,
 "nbformat_minor": 2
}
